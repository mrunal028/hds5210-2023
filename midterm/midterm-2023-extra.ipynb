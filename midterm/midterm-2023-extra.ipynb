{
  "cells": [
    {
      "cell_type": "markdown",
      "metadata": {
        "id": "6D1wsFFlAxBa"
      },
      "source": [
        "# Extra Credit\n",
        "\n",
        "For upto an additional 15 extra credit points on the midterm exam, you can write another function that applies additional criteria on top of what the midterm already did.  To earn the addition points, you need write a function called `summarize_results(patients)` to take the output of your  `process_people()` function to apply a new business rule and summarize the results.\n",
        "\n",
        "* Your function should take the dictionary created by `process_people()` as it's one input parameter: `patients`.\n",
        "* If the PRIEST probably is less than 10%, change the `hospital` and `address` to both have a value of `'Home'` indicating patients with a lower probability of an adverse outcome can just go home rather than be admitted to a hospital.\n",
        "* Summarize those results and count how many patients are now being sent to each location.  Your result should have the following format:\n",
        "```\n",
        "{\n",
        "    \"Home\": 123,\n",
        "    \"Hospital A\": 10,\n",
        "    \"Hospital B\": 20,\n",
        "    \"Hospital C\": 30\n",
        "}\n",
        "```\n",
        "\n",
        "As always, your function needs good docstrings; but does not require any doctests in this case."
      ]
    },
    {
      "cell_type": "code",
      "execution_count": 1,
      "metadata": {
        "colab": {
          "base_uri": "https://localhost:8080/"
        },
        "id": "v6_D47GpAxBb",
        "outputId": "82551153-4ea3-4fe4-b4af-5a546f49188c"
      },
      "outputs": [
        {
          "output_type": "stream",
          "name": "stdout",
          "text": [
            "{'Home': 3, 'Hospital A': 0, 'Hospital B': 2, 'Hospital C': 0}\n"
          ]
        }
      ],
      "source": [
        "def process_people():\n",
        "    patients = {\n",
        "        1: {\"PRIEST\": 5, \"hospital\": \"Hospital A\"},\n",
        "        2: {\"PRIEST\": 15, \"hospital\": \"Hospital B\"},\n",
        "        3: {\"PRIEST\": 8, \"hospital\": \"Hospital A\"},\n",
        "        4: {\"PRIEST\": 4, \"hospital\": \"Hospital C\"},\n",
        "        5: {\"hospital\": \"Hospital B\"},\n",
        "    }\n",
        "    return patients\n",
        "\n",
        "# Define the summarize_results function\n",
        "def summarize_results(patients):\n",
        "    # Initialize a dictionary to count the number of patients sent to each location\n",
        "    location_counts = {\n",
        "        \"Home\": 0,\n",
        "        \"Hospital A\": 0,\n",
        "        \"Hospital B\": 0,\n",
        "        \"Hospital C\": 0\n",
        "    }\n",
        "\n",
        "    # Iterate through patient data\n",
        "    for patient_id, patient_info in patients.items():\n",
        "        # Check if the PRIEST probability is less than 10% and update the hospital location if needed\n",
        "        if \"PRIEST\" in patient_info and patient_info[\"PRIEST\"] < 10:\n",
        "            patient_info[\"hospital\"] = \"Home\"\n",
        "\n",
        "        # Count patients sent to each location\n",
        "        location = patient_info.get(\"hospital\", \"Unknown\")\n",
        "        location_counts[location] += 1\n",
        "\n",
        "    return location_counts\n",
        "\n",
        "# Generate the patients dictionary using the process_people function\n",
        "patients = process_people()\n",
        "\n",
        "# Use the summarize_results function to get the summary\n",
        "result_summary = summarize_results(patients)\n",
        "\n",
        "# Print the result summary\n",
        "print(result_summary)"
      ]
    },
    {
      "cell_type": "code",
      "execution_count": null,
      "metadata": {
        "id": "zEj_bSHvAxBc"
      },
      "outputs": [],
      "source": []
    }
  ],
  "metadata": {
    "kernelspec": {
      "display_name": ".venv",
      "language": "python",
      "name": "python3"
    },
    "language_info": {
      "codemirror_mode": {
        "name": "ipython",
        "version": 3
      },
      "file_extension": ".py",
      "mimetype": "text/x-python",
      "name": "python",
      "nbconvert_exporter": "python",
      "pygments_lexer": "ipython3",
      "version": "3.9.16"
    },
    "colab": {
      "provenance": []
    }
  },
  "nbformat": 4,
  "nbformat_minor": 0
}