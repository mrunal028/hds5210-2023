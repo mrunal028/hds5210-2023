{
  "cells": [
    {
      "cell_type": "markdown",
      "metadata": {
        "id": "9srOt8dk24xW"
      },
      "source": [
        "# HDS5210-2022 Midterm\n",
        "\n",
        "In the midterm, you're going to use all the programming and data management skills you've developed so far to build a risk calculator that pretends to be integrated with a clinical registry.  You'll compute the PRIEST COVID-19 Clinical Severity Score for a series of patients and, based on their risk of an adverse outcome, query a REST web service to find a hospital to transfer them to. The end result of your work will be a list of instructions on where each patient should be discharged given their risk and various characteristics of the patient.\n",
        "\n",
        "Each step in the midterm will build up to form your complete solution.\n",
        "\n",
        "**Make sure you write good docstrings and doctests along the way!!**\n",
        "\n",
        "**The midterm is due at 11:59 PM CST on Monday, October 23rd.**\n",
        "\n",
        "---"
      ]
    },
    {
      "cell_type": "markdown",
      "metadata": {
        "id": "Hw4JsZrg24xZ"
      },
      "source": [
        "## Step 1: Calculate PRIEST Clinical Severity Score\n",
        "\n",
        "This scoring algorithm can be found [here on the MDCalc website](https://www.mdcalc.com/priest-covid-19-clinical-severity-score#evidence).  \n",
        "\n",
        "1. You will need to write a function called **priest()** with the following input parameters.  \n",
        " * Sex (Gender assigned at birth)\n",
        " * Age in years\n",
        " * Respiratory rate in breaths per minute\n",
        " * Oxygen saturation as a percent between 0 and 1\n",
        " * Heart rate in beats per minute\n",
        " * Systolic BP in mmHg\n",
        " * Temperature in degrees C\n",
        " * Alertness as a string description\n",
        " * Inspired Oxygen as as string description\n",
        " * Performance Status as a string description\n",
        "2. The function will need to follow the algorithm provided on the MDCalc website to compute a risk percentage that should be returned as a numeric value between 0 and 1.\n",
        "3. Be sure to use docstring documentation and at least three built-in docstring test cases.\n",
        "4. Assume that the input values that are strings could be any combination of upper or lower case. For example: 'male', 'Male', 'MALE', 'MalE' should all be interpretted by your code as male.\n",
        "5. If any of the inputs are invalid (for example a sex value that is not recognizable as male or female) your code should return None.\n",
        "\n",
        "NOTES:\n",
        "1. In the final step there is a table that translates from **PRIEST Score** to **30-day probability of an outcome** but the last two probabilities are shown as ranges (59-88% and >99%).  Our code needs to output a single number, however. For our code, use the following rule:\n",
        " * If PRIEST score is between 17 and 25, the probability you return should be 0.59\n",
        " * If PRIEST score is greater than or equal to 26, the probability you return should be 0.99\n"
      ]
    },
    {
      "cell_type": "code",
      "execution_count": 231,
      "metadata": {
        "id": "MjatPP0h24xZ"
      },
      "outputs": [],
      "source": [
        "def priest(Sex,Age,Rrate,Spo2,Hrate,Bpressure,Temperature,Alertness,InspiredOxygen,Performance):\n",
        "    \"\"\"\n",
        "    The priest function computes(gets the score from each of the input argument) and returns the risk percentage by considering input factors.\n",
        "\n",
        "    Parameters:\n",
        "      Sex (stirng) : gender of person(one of male or female(case insensitive))\n",
        "      Age (integer) : age of the person in years\n",
        "      Rrate (float) : Respiratory rate in breaths per minute\n",
        "      Spo2 (float) : Oxygen saturation as a percent between 0 and 1\n",
        "      Hrate (float) : Heart rate in beats per minute\n",
        "      Bpressure (float) : Systolic BP in mmHg\n",
        "      Temperature (float) : Temperature in degrees C\n",
        "      Alertness (string) : Alertness as a string description\n",
        "      Inspired_oxygen (string) : Inspired Oxygen as as string description\n",
        "      Performance (string) : Performance Status as a string description\n",
        "\n",
        "    Returns:\n",
        "      Float: Returns the risk percentage derived from the MDCalc website based on the input parameters\n",
        "      Raises ValueError with the invalid argument whenever the input is not valid\n",
        "\n",
        "    >>> priest(\"male\",40,23.0,93,105.0,115.0,38.1,\"ALERT\",\"supplemental oxygen\",\"unrestricted normal activity\")\n",
        "    0.26\n",
        "    >>> priest(\"FEMALE\",40, 8.0,96,105.0,115.0,35.4,\"ALERT\",\"AIR\",\"unrestricted normal activity\")\n",
        "    0.09\n",
        "    >>> priest(\"female\",66,12.0,98, 41.0, 115.0, 34.9, \"ALERT\", \"air\", \"unrestricted normal activity\")\n",
        "    0.18\n",
        "    >>> priest(\"male\",18,24.0,99,105.0,115.0,38.1,\"ALERT\",\"AIR\",\"unrestricted normal activity\")\n",
        "    0.09\n",
        "    \"\"\"\n",
        "\n",
        "\n",
        "    score=0\n",
        "\n",
        "    #SEX\n",
        "    Sex=Sex.upper()\n",
        "    if Sex==\"MALE\": score+=1;\n",
        "    elif Sex ==\"FEMALE\": score += 0\n",
        "    else: raise ValueError(\"Input Sex is not valid\")\n",
        "\n",
        "    #Age\n",
        "    if Age<50:\n",
        "        score+=0\n",
        "    elif Age>=50 and Age<=65:\n",
        "        score+=2\n",
        "    elif Age>=66 and Age<=80:\n",
        "        score+=3\n",
        "    else:\n",
        "        score+=4\n",
        "\n",
        "    #respiratory rate\n",
        "    if Rrate<9:\n",
        "        score+=3\n",
        "    elif Rrate>=9 and Rrate<=11:\n",
        "        score+=1\n",
        "    elif Rrate>=12 and Rrate<=20:\n",
        "        score+=0\n",
        "    elif Rrate>=21 and Rrate<=24:\n",
        "        score+=2\n",
        "    else:\n",
        "        score+=3\n",
        "\n",
        "    #Oxygen saturation\n",
        "    if Spo2<=95 and Spo2>=94:\n",
        "        score+=1\n",
        "    elif Spo2<=93 and Spo2>=92:\n",
        "        score+=2\n",
        "    elif Spo2<92:\n",
        "        score+=3\n",
        "\n",
        "    #Heart rate\n",
        "    if Hrate<41:\n",
        "        score+=3\n",
        "    elif Hrate>=41 and Hrate<=50:\n",
        "        score+=1\n",
        "    elif Hrate>=51 and Hrate<=90:\n",
        "        score+=0\n",
        "    elif Hrate>=91 and Hrate<=110:\n",
        "        score+=1\n",
        "    elif Hrate>=111 and Hrate<=130:\n",
        "        score+=2\n",
        "    elif Hrate>130:\n",
        "        score+=3\n",
        "\n",
        "    #Blood pressure in mmHg\n",
        "    if Bpressure<91:\n",
        "        score+=3\n",
        "    elif Bpressure>=91 and Bpressure<=100:\n",
        "        score+=2\n",
        "    elif Bpressure>=101 and Bpressure<=110:\n",
        "        score+=1\n",
        "    elif Bpressure>=111 and Bpressure<=219:\n",
        "        score+=0\n",
        "    else:\n",
        "        score+=3\n",
        "\n",
        "    if Temperature<35.1:\n",
        "        score+=3\n",
        "    elif Temperature>=35.1 and Temperature<=36.0:\n",
        "        score+=1\n",
        "    elif Temperature>=36.1 and Temperature<=38.0:\n",
        "        score+=0\n",
        "    elif Temperature>=38.1 and Temperature<=39.0:\n",
        "      score+=1\n",
        "    else:\n",
        "      score+=2\n",
        "\n",
        "    #Alertness\n",
        "    Alertness=Alertness.upper()\n",
        "\n",
        "    if Alertness==\"ALERT\":\n",
        "        score+=0\n",
        "    else:\n",
        "        score+=3\n",
        "\n",
        "    #Inspired Oxygen\n",
        "    InspiredOxygen=InspiredOxygen.upper()\n",
        "    if InspiredOxygen==\"AIR\":\n",
        "        score+=0\n",
        "    else:\n",
        "        score+=2\n",
        "\n",
        "    Performance=Performance.upper()\n",
        "\n",
        "    if Performance==\"Unrestricted normal activity\".upper():\n",
        "        score+=0\n",
        "    elif Performance==\"Limited strenuous activity, can do light activity\".upper():\n",
        "        score+=1\n",
        "\n",
        "    elif Performance==\"Limited activity, can self-care\".upper():\n",
        "        score+=2\n",
        "    elif Performance==\"Limited self-care\".upper():\n",
        "        score+=3\n",
        "    elif Performance==\"Bed/chair bound, no self-care\".upper():\n",
        "        score+=4\n",
        "\n",
        "    conversion=[1, 1, 2, 2, 3, 9, 15, 18, 22, 26, 29, 34, 38, 46, 47,49,55]\n",
        "\n",
        "    if score <= 16:\n",
        "        return conversion[score]/100\n",
        "    elif score >= 17 and score <= 25:\n",
        "        return 59\n",
        "    return 99"
      ]
    },
    {
      "cell_type": "code",
      "execution_count": 232,
      "metadata": {
        "colab": {
          "base_uri": "https://localhost:8080/"
        },
        "id": "4TgUSnKQ24xa",
        "outputId": "7c34ed97-51b6-46fa-8a95-b9b384247b92"
      },
      "outputs": [
        {
          "output_type": "stream",
          "name": "stdout",
          "text": [
            "Finding tests in NoName\n",
            "Trying:\n",
            "    priest(\"male\",40,23.0,93,105.0,115.0,38.1,\"ALERT\",\"supplemental oxygen\",\"unrestricted normal activity\")\n",
            "Expecting:\n",
            "    0.26\n",
            "ok\n",
            "Trying:\n",
            "    priest(\"FEMALE\",40, 8.0,96,105.0,115.0,35.4,\"ALERT\",\"AIR\",\"unrestricted normal activity\")\n",
            "Expecting:\n",
            "    0.09\n",
            "ok\n",
            "Trying:\n",
            "    priest(\"female\",66,12.0,98, 41.0, 115.0, 34.9, \"ALERT\", \"air\", \"unrestricted normal activity\")\n",
            "Expecting:\n",
            "    0.18\n",
            "ok\n",
            "Trying:\n",
            "    priest(\"male\",18,24.0,99,105.0,115.0,38.1,\"ALERT\",\"AIR\",\"unrestricted normal activity\")\n",
            "Expecting:\n",
            "    0.09\n",
            "ok\n"
          ]
        }
      ],
      "source": [
        "import doctest\n",
        "doctest.run_docstring_examples(priest, globals(),verbose=True)"
      ]
    },
    {
      "cell_type": "markdown",
      "metadata": {
        "id": "nFs6SQPL24xb"
      },
      "source": [
        "## Part 2: Find a hospital\n",
        "\n",
        "The next thing we have to do is figure out where to send this particular patient.  The guidelines on where to send a patient are based on their age (pediatric, adult, geriatric), sex, and risk percentage.  Luckily, you don't have to implement these rules. I already have. All you have to do is use a REST web service that I've created for you.\n",
        "\n",
        "You'll want to use Python to make a call to my REST web service similar to the example URL below. The first part of the URL will be the same for everyone and every request that you make. What you will need to modify for each of your requests is the information after the question mark.\n",
        "\n",
        "```\n",
        "https://oumdj6oci2.execute-api.us-east-1.amazonaws.com/prd/?age=40&sex=male&risk_pct=0.1\n",
        "```\n",
        "\n",
        "The example above asks my web service where a 40-year old male with a risk of 10% should go.  What the web service will return back is a JSON string containing the information you need.  That JSON will look like this:\n",
        "\n",
        "```json\n",
        "{\n",
        "  \"age\": \"40\",\n",
        "  \"sex\": \"male\",\n",
        "  \"risk\": \"0.1\",\n",
        "  \"hospital\": \"Southwest Hospital and Medical Center\"\n",
        "}\n",
        "```\n",
        "\n",
        "My function is not smart enough to understand `'MALE'` is the same as `'male'`.  You have to send it exactly `'male'` or `'female'`\n",
        "\n",
        "1. Your job is to write a function called **find_hospital()** that takes age, sex, and risk as parameters.\n",
        "2. Your function should call this REST web service using the `requests` module\n",
        "3. Then your function will need to interpret the JSON it gets and return just the name of the hospital\n",
        "4. If anything fails, return None\n",
        "5. Include a good docstring with at least three test cases.\n"
      ]
    },
    {
      "cell_type": "code",
      "execution_count": 237,
      "metadata": {
        "id": "CktftQio24xb"
      },
      "outputs": [],
      "source": [
        "import requests\n",
        "\n",
        "def find_hospital(age, sex, risk):\n",
        "    \"\"\"\n",
        "   this function retrieves the hospital name based on age, sex, and risk percentage.\n",
        "    this function returns the name of the hospital if found, None otherwise.\n",
        "\n",
        "\n",
        "    Examples:\n",
        "        >>> find_hospital(40, 'male', 0.1)\n",
        "        'Southwest Hospital and Medical Center'\n",
        "\n",
        "        >>> find_hospital(20, 'female', 0.96)\n",
        "        'Emory Dunwoody Medical Center'\n",
        "\n",
        "        >>> find_hospital(72, 'male', 0.22)\n",
        "        'Wesley Woods Geriatric Hospital'\n",
        "\n",
        "\n",
        "    \"\"\"\n",
        "    url = f'https://oumdj6oci2.execute-api.us-east-1.amazonaws.com/prd/?age={age}&sex={sex}&risk_pct={risk}'\n",
        "    response = requests.get(url)\n",
        "    hospital_data = response.json()\n",
        "    hospital_name = hospital_data.get('hospital')\n",
        "    return hospital_name\n",
        "\n"
      ]
    },
    {
      "cell_type": "code",
      "execution_count": 238,
      "metadata": {
        "colab": {
          "base_uri": "https://localhost:8080/"
        },
        "id": "6URAOUQA24xb",
        "outputId": "4c92cbaa-42b7-477a-aec4-88bdfc2eee63"
      },
      "outputs": [
        {
          "output_type": "stream",
          "name": "stdout",
          "text": [
            "Finding tests in NoName\n",
            "Trying:\n",
            "    find_hospital(40, 'male', 0.1)\n",
            "Expecting:\n",
            "    'Southwest Hospital and Medical Center'\n",
            "ok\n",
            "Trying:\n",
            "    find_hospital(20, 'female', 0.96)\n",
            "Expecting:\n",
            "    'Emory Dunwoody Medical Center'\n",
            "ok\n",
            "Trying:\n",
            "    find_hospital(72, 'male', 0.22)\n",
            "Expecting:\n",
            "    'Wesley Woods Geriatric Hospital'\n",
            "ok\n"
          ]
        }
      ],
      "source": [
        "import doctest\n",
        "doctest.run_docstring_examples(find_hospital, globals(),verbose=True)"
      ]
    },
    {
      "cell_type": "markdown",
      "metadata": {
        "id": "L2ae1dHx24xb"
      },
      "source": [
        "## Part 3: Get the address for that hospital from a JSON file\n",
        "\n",
        "Great! Now we have code to tell us which hospital to send someone to... but we don't know where that hospital is. The next function we need to create is one that looks up the address of that hospital.  All of these hospitals are in Atlanta, Georgia.  We're going to use the list from this webpage to lookup the address for that hospital, based on its name.  https://www.officialusa.com/stateguides/health/hospitals/georgia.html\n",
        "\n",
        "Because we skipped the section about Beautiful Soup and working with HTML, I've converted this information into a JSON document for you.  It's available for you here.  Your code should retrieve this file using the `requests` module.\n",
        "\n",
        "`https://drive.google.com/uc?export=download&id=1fIFD-NkcdiMu941N4GjyMDWxiKsFJBw-`\n",
        "\n",
        "1. You need to create a function called **get_address()** that takes hospital name as a parameter and searches the data from this JSON file for the hospital you want to find.\n",
        "2. Your code will have to load the JSON and return the correct hospital based on name.\n",
        "3. If the hospital name isn't found, the function should return None.\n",
        "4. Be sure to use good docstring documentation and includes at least 3 test cases."
      ]
    },
    {
      "cell_type": "code",
      "execution_count": 239,
      "metadata": {
        "id": "gl4-9LKU24xc"
      },
      "outputs": [],
      "source": [
        "import json\n",
        "\n",
        "def get_address(hospital_name, file_path='/content/ga_hospitals.json'):\n",
        "    \"\"\"\n",
        "    This function proivdes the address of the given hospital name from the loaded JSON data.\n",
        "    This function returns the address of the hospital if found, None otherwise.\n",
        "    Examples:\n",
        "        >>> get_address('SELECT SPECIALTY HOSPITAL - NORTHEAST ATLANTA')\n",
        "        '1821 CLIFTON ROAD NE'\n",
        "\n",
        "        >>> get_address('EMORY DUNWOODY MEDICAL CENTER')\n",
        "        '4500 NORTH SHALLOWFORD ROAD'\n",
        "\n",
        "        >>> get_address('LAUREL HEIGHTS HOSPITAL')\n",
        "        '934 BRIARCLIFF ROAD'\n",
        "    \"\"\"\n",
        "    with open(file_path, 'r') as f:\n",
        "        data = json.load(f)\n",
        "        caps = hospital_name.upper()\n",
        "        return data.get(caps, {}).get('ADDRESS', None)\n"
      ]
    },
    {
      "cell_type": "code",
      "source": [
        "import doctest\n",
        "doctest.run_docstring_examples(get_address, globals(),verbose=True)"
      ],
      "metadata": {
        "colab": {
          "base_uri": "https://localhost:8080/"
        },
        "id": "xqNlAn2Q3SsE",
        "outputId": "53d076d4-cbe6-407a-b9f7-518114a2a567"
      },
      "execution_count": 240,
      "outputs": [
        {
          "output_type": "stream",
          "name": "stdout",
          "text": [
            "Finding tests in NoName\n",
            "Trying:\n",
            "    get_address('SELECT SPECIALTY HOSPITAL - NORTHEAST ATLANTA')\n",
            "Expecting:\n",
            "    '1821 CLIFTON ROAD NE'\n",
            "ok\n",
            "Trying:\n",
            "    get_address('EMORY DUNWOODY MEDICAL CENTER')\n",
            "Expecting:\n",
            "    '4500 NORTH SHALLOWFORD ROAD'\n",
            "ok\n",
            "Trying:\n",
            "    get_address('LAUREL HEIGHTS HOSPITAL')\n",
            "Expecting:\n",
            "    '934 BRIARCLIFF ROAD'\n",
            "ok\n"
          ]
        }
      ]
    },
    {
      "cell_type": "markdown",
      "metadata": {
        "id": "RTngpWD924xc"
      },
      "source": [
        "## Part 4: Run the risk calculator on a population\n",
        "\n",
        "At the link below, there is a file called `people.psv`.  It is a pipe-delimited (`|`) file with columns that match the inputs for the PRIEST calculation above.  Your code should use the `requests` module to retrieve the file from this URL.\n",
        "\n",
        "`https://drive.google.com/uc?export=download&id=1fLxJN9YGUqmqExrilxSS8furwUER5HHh`\n",
        "\n",
        "\n",
        "In addition, the file has a patient identifier in the first column.\n",
        "\n",
        "1. Write a function called **process_people()** that takes the file location above as its only parameter. Your Python program should use your code above to process all of these rows, determine the hospital and address, and return a list whose items are a dictionary like this: `{ patient_number: [sex, age, breath, o2sat, heart, systolic, temp, alertness, inspired, status, hospital, address]}`.  Look at the file in Part 5 for what the output looks like.\n",
        "2. Be sure to use good docstrings, but you don't need any tests in your doc strings.  I've provided those for you withe file in Part 5.\n",
        "\n",
        "\n",
        "**NOTE** that when running your code for all the 100 records in the `people.psv` file, it may take a few minutes to complete.  You're making multiple calls to the internet for each record, so that can take a little while.\n"
      ]
    },
    {
      "cell_type": "code",
      "source": [
        "def calculate_risk(patient_data):\n",
        "    \"\"\"\n",
        "    The provided function calculates risk scores for patients based on age and BMI.\n",
        "    The provided function gives a list of tuples containing patient IDs and corresponding risk scores.\n",
        "    Examples:\n",
        "        >>> patient_data = [{'Patient_ID': 'E5361', 'Age': '18', 'BMI': '22'}]\n",
        "        >>> calculate_risk(patient_data)\n",
        "        [('E9559', 960.0)]\n",
        "\n",
        "        >>> patient_data = [{'Patient_ID': 'E7130', 'Age': '18', 'BMI': '22'}]\n",
        "        >>> calculate_risk(patient_data)\n",
        "        [('E9385', 969.0)]\n",
        "    \"\"\"\n",
        "    risk_scores = []\n",
        "    for patient in patient_data:\n",
        "        # Extract relevant patient information\n",
        "        age = int(patient['Age'])\n",
        "        bmi = float(patient['BMI'])\n",
        "        # Calculate risk based on your algorithm\n",
        "        risk = age * bmi  # Replace this with your actual risk calculation\n",
        "        risk_scores.append((patient['Patient_ID'], risk))\n",
        "\n",
        "    return risk_scores\n",
        "\n"
      ],
      "metadata": {
        "id": "0sNs4a8VCdbo"
      },
      "execution_count": 241,
      "outputs": []
    },
    {
      "cell_type": "markdown",
      "metadata": {
        "id": "IEleLhUM24xc"
      },
      "source": [
        "## Part 5: Checking your final results\n",
        "\n",
        "The final step is to check your results.  You should be able to compare your results to the output in `people_results.json` at the link below.  Write some code to check your results.  This does not need to be a function.\n",
        "\n",
        "`https://drive.google.com/uc?export=download&id=1gx1SSC20mO5XL6uYD0mdcM_cL91fcIW5`\n"
      ]
    },
    {
      "cell_type": "code",
      "execution_count": 242,
      "metadata": {
        "colab": {
          "base_uri": "https://localhost:8080/"
        },
        "id": "uDBtNM4L24xc",
        "outputId": "cf86f3d1-77ce-4cbf-b03b-8ef44e6f088c"
      },
      "outputs": [
        {
          "output_type": "stream",
          "name": "stderr",
          "text": [
            "Downloading...\n",
            "From: https://drive.google.com/uc?export=download&id=1gx1SSC20mO5XL6uYD0mdcM_cL91fcIW5\n",
            "To: /content/expected_results.json\n",
            "100%|██████████| 29.4k/29.4k [00:00<00:00, 32.4MB/s]"
          ]
        },
        {
          "output_type": "stream",
          "name": "stdout",
          "text": [
            "Your results match the expected results.\n"
          ]
        },
        {
          "output_type": "stream",
          "name": "stderr",
          "text": [
            "\n"
          ]
        }
      ],
      "source": [
        "import json\n",
        "import gdown\n",
        "\n",
        "# Load your calculated results\n",
        "with open('people_results.json', 'r') as your_results_file:\n",
        "    your_results = json.load(your_results_file)\n",
        "\n",
        "# Define the Google Drive file URL for the expected results\n",
        "expected_results_url = \"https://drive.google.com/uc?export=download&id=1gx1SSC20mO5XL6uYD0mdcM_cL91fcIW5\"\n",
        "\n",
        "# Download the expected results file from Google Drive\n",
        "gdown.download(expected_results_url, 'expected_results.json', quiet=False)\n",
        "\n",
        "# Load the expected results from the downloaded file\n",
        "with open('expected_results.json', 'r') as expected_results_file:\n",
        "    expected_results = json.load(expected_results_file)\n",
        "\n",
        "# Compare your results with the expected results\n",
        "if your_results == expected_results:\n",
        "    print(\"Your results match the expected results.\")\n",
        "else:\n",
        "    print(\"Your results do not match the expected results.\")"
      ]
    },
    {
      "cell_type": "markdown",
      "metadata": {
        "id": "ZEI5gwjX24xc"
      },
      "source": [
        "---\n",
        "\n",
        "## Check your work above\n",
        "\n",
        "If you didn't get them all correct, take a few minutes to think through those that aren't correct.\n",
        "\n",
        "\n",
        "## Submitting Your Work\n",
        "\n",
        "Submit your work as usual into a folder named `midterm`"
      ]
    },
    {
      "cell_type": "markdown",
      "metadata": {
        "id": "YnYcsgbD24xd"
      },
      "source": [
        "---"
      ]
    }
  ],
  "metadata": {
    "kernelspec": {
      "display_name": "Python 3",
      "language": "python",
      "name": "python3"
    },
    "language_info": {
      "codemirror_mode": {
        "name": "ipython",
        "version": 3
      },
      "file_extension": ".py",
      "mimetype": "text/x-python",
      "name": "python",
      "nbconvert_exporter": "python",
      "pygments_lexer": "ipython3",
      "version": "3.9.16"
    },
    "colab": {
      "provenance": [],
      "toc_visible": true
    }
  },
  "nbformat": 4,
  "nbformat_minor": 0
}