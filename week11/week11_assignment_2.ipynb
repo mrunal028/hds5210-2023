{
  "cells": [
    {
      "cell_type": "markdown",
      "metadata": {
        "id": "view-in-github",
        "colab_type": "text"
      },
      "source": [
        "<a href=\"https://colab.research.google.com/github/mrunal028/hds5210-2023/blob/main/week11/week11_assignment_2.ipynb\" target=\"_parent\"><img src=\"https://colab.research.google.com/assets/colab-badge.svg\" alt=\"Open In Colab\"/></a>"
      ]
    },
    {
      "cell_type": "markdown",
      "metadata": {
        "id": "S9yVUPy5TLSz"
      },
      "source": [
        "# Week 11 Assignment\n",
        "\n",
        "\n",
        "Please do the programming exercise and verify that your code works using the tests, then think about your final project and fill out the questions in the second part.\n",
        "\n",
        "---\n",
        "---"
      ]
    },
    {
      "cell_type": "markdown",
      "metadata": {
        "id": "UDGpwWZJTLS8"
      },
      "source": [
        "### 47.1: Filtering and summarizing data\n",
        "\n",
        "For this work, you'll find a data file in `https://hds5210-data.s3.amazonaws.com/complications_all.csv`.\n",
        "\n",
        "Read in the data file and create a variable called `mo_hospitals` that contains a data frame from the `complications_all.csv` file, filtered down to only contain those hospitals from the state of Missouri (MO).\n",
        "\n",
        "Then aggregate that data by hospital into a variable named `mo_summary`.  There are some key fields that we want to summarize:\n",
        "* We want to know the earliest date that each hospital was participating in any program\n",
        "* We want to know the latest date that each hospital stopped participating in any program\n",
        "* We want to know the total number of patients in the denominators of these programs\n",
        "\n",
        "Some things to note:\n",
        "* You will need to convert the `Start Date` and `End Date` to actual datetime fields\n",
        "* You will need to clean up and convert the `Denominator` field to just be numeric - the rule that you should use it to simply remove any records where the `Denominator` is `'Not Available'`\n",
        "\n",
        "\n",
        "The final result of this step should be a new data frame called `mo_summary` that contains one row for each hospital and contains the min start date, max end date, and total denominator.  Use the names `start_date`, `end_date`, and `number` for those columns in `mo_summary`.\n",
        "\n",
        "\n",
        "You do not need to create your code in the form of a function, just make sure your variable names match what I've described above so the tests work."
      ]
    },
    {
      "cell_type": "code",
      "execution_count": 21,
      "metadata": {
        "id": "EmB-qDnhTLS-"
      },
      "outputs": [],
      "source": [
        "import pandas as pd\n",
        "# This is just to show you the name to use for the variable you need to create for this step to pass.\n",
        "all_hospitals = pd.read_csv('https://hds5210-data.s3.amazonaws.com/complications_all.csv')\n"
      ]
    },
    {
      "cell_type": "code",
      "execution_count": 22,
      "metadata": {
        "id": "4uA4nBUATLTA",
        "colab": {
          "base_uri": "https://localhost:8080/"
        },
        "outputId": "b92e7999-3415-493b-d5ff-977f7fe4a037"
      },
      "outputs": [
        {
          "output_type": "stream",
          "name": "stderr",
          "text": [
            "<ipython-input-22-3d24cabc10db>:4: SettingWithCopyWarning: \n",
            "A value is trying to be set on a copy of a slice from a DataFrame.\n",
            "Try using .loc[row_indexer,col_indexer] = value instead\n",
            "\n",
            "See the caveats in the documentation: https://pandas.pydata.org/pandas-docs/stable/user_guide/indexing.html#returning-a-view-versus-a-copy\n",
            "  cleaned_missouri_hospitals['Start Date'] = pd.to_datetime(cleaned_missouri_hospitals['Start Date'])\n",
            "<ipython-input-22-3d24cabc10db>:5: SettingWithCopyWarning: \n",
            "A value is trying to be set on a copy of a slice from a DataFrame.\n",
            "Try using .loc[row_indexer,col_indexer] = value instead\n",
            "\n",
            "See the caveats in the documentation: https://pandas.pydata.org/pandas-docs/stable/user_guide/indexing.html#returning-a-view-versus-a-copy\n",
            "  cleaned_missouri_hospitals['End Date'] = pd.to_datetime(cleaned_missouri_hospitals['End Date'])\n",
            "<ipython-input-22-3d24cabc10db>:6: SettingWithCopyWarning: \n",
            "A value is trying to be set on a copy of a slice from a DataFrame.\n",
            "Try using .loc[row_indexer,col_indexer] = value instead\n",
            "\n",
            "See the caveats in the documentation: https://pandas.pydata.org/pandas-docs/stable/user_guide/indexing.html#returning-a-view-versus-a-copy\n",
            "  cleaned_missouri_hospitals['Denominator'] = pd.to_numeric(cleaned_missouri_hospitals['Denominator'])\n"
          ]
        }
      ],
      "source": [
        "# Do you work here and in as many cells as you need to create a variable called `mo_summary` that matches the requirements\n",
        "missouri_hospitals = all_hospitals.loc[(all_hospitals['State'] == 'MO')]\n",
        "cleaned_missouri_hospitals = missouri_hospitals.loc[(missouri_hospitals['Denominator'] != 'Not Available')]\n",
        "cleaned_missouri_hospitals['Start Date'] = pd.to_datetime(cleaned_missouri_hospitals['Start Date'])\n",
        "cleaned_missouri_hospitals['End Date'] = pd.to_datetime(cleaned_missouri_hospitals['End Date'])\n",
        "cleaned_missouri_hospitals['Denominator'] = pd.to_numeric(cleaned_missouri_hospitals['Denominator'])"
      ]
    },
    {
      "cell_type": "code",
      "source": [
        "cleaned_missouri_hospitals_df = pd.DataFrame().assign(facility_name = cleaned_missouri_hospitals['Facility Name'], start_date = cleaned_missouri_hospitals['Start Date'], end_date = cleaned_missouri_hospitals['End Date'], number = cleaned_missouri_hospitals['Denominator'])"
      ],
      "metadata": {
        "id": "LWNnieL8efv7"
      },
      "execution_count": 23,
      "outputs": []
    },
    {
      "cell_type": "code",
      "source": [
        "mo_summary = cleaned_missouri_hospitals_df.groupby('facility_name').aggregate({'start_date': 'min', 'end_date': 'max', 'number': 'sum'})"
      ],
      "metadata": {
        "id": "pPEbMiIgfGVw"
      },
      "execution_count": 24,
      "outputs": []
    },
    {
      "cell_type": "code",
      "execution_count": 25,
      "metadata": {
        "id": "M7W-Bbv-TLTB"
      },
      "outputs": [],
      "source": [
        "assert(mo_summary['number'].sum() == 1766908)\n",
        "assert(mo_summary['start_date'].min() == pd.Timestamp(2015,4,1))\n",
        "assert(mo_summary['end_date'].max() == pd.Timestamp(2018,6,30))\n",
        "assert(mo_summary.shape == (108,3))\n",
        "assert(mo_summary.loc['BARNES JEWISH HOSPITAL'].number == 131313)\n",
        "assert(mo_summary.loc['BOONE HOSPITAL CENTER'].number == 63099)"
      ]
    },
    {
      "cell_type": "markdown",
      "metadata": {
        "id": "ddGWTjNzTLTB"
      },
      "source": [
        "---\n",
        "\n",
        "### 47.2 Planning your final project\n",
        "\n",
        "You should be thinking about the things we've been learning and how you can apply them to your final project.  Use the rubric to help guid your thinking and then answer the questions below.  This is meant as a guide to help you think through what you will do."
      ]
    },
    {
      "cell_type": "markdown",
      "metadata": {
        "id": "UUo6nQ3hTLTC"
      },
      "source": [
        "#### A) Data Access\n",
        "\n",
        "Your project should include data from at least three distinct types of sources.  For example: AWS S3, Relational Databases, Internet, Web Services, local files.  List what data sources you're planning to use."
      ]
    },
    {
      "cell_type": "markdown",
      "metadata": {
        "id": "HdKrNFbpTLTC"
      },
      "source": [
        "**Double-click to enter your answer**\n",
        "\n",
        "Local files, Internet, SQL\n"
      ]
    },
    {
      "cell_type": "markdown",
      "metadata": {
        "id": "h4vznWuVTLTD"
      },
      "source": [
        "#### B. Data Formats\n",
        "\n",
        "Your project should include data that comes in different file formats.  For example: HL7, EDI, HTML, CSV, Excel, JSON, XML.  List what data formats you're planning to use."
      ]
    },
    {
      "cell_type": "markdown",
      "metadata": {
        "id": "9ljGKYRATLTD"
      },
      "source": [
        "**Double-click to enter your answer**\n",
        "\n",
        "CSV, Excel and JSON\n"
      ]
    },
    {
      "cell_type": "markdown",
      "metadata": {
        "id": "kFqEAE9uTLTD"
      },
      "source": [
        "#### C. Objective\n",
        "\n",
        "What purpose would your project serve in a real work setting?  Take a couple of paragraphs to write down why this is an interesting product."
      ]
    },
    {
      "cell_type": "markdown",
      "metadata": {
        "id": "oNwEmku2TLTE"
      },
      "source": [
        "**Double-click to enter your answer**\n",
        "\n",
        "**Best nearest hospital finder based on disease**\n",
        "\n",
        "Looking forward to work on the data which helps to find the nearest best hospital for respective disease, so that any indivual who needs to get treated can know where to travel as per their conveneince.\n",
        "\n",
        "Got the idea to work on this product as on daily basis we see many international students/immigrants on whom to reach out or where to go if got ill. With this project, we could directly help the sick person by stating him that this particular hospital is best for this disease and mention to the user that whether this hospital accepts/treats emergency issues. This would basically save time and clear out many confusions for a new person in the city/country.\n"
      ]
    },
    {
      "cell_type": "markdown",
      "metadata": {
        "id": "-8WWFCaYTLTE"
      },
      "source": [
        "\n",
        "\n",
        "---\n",
        "\n",
        "\n",
        "\n",
        "## Submit your work via GitHub as normal\n"
      ]
    }
  ],
  "metadata": {
    "kernelspec": {
      "display_name": "Python 3",
      "language": "python",
      "name": "python3"
    },
    "language_info": {
      "codemirror_mode": {
        "name": "ipython",
        "version": 3
      },
      "file_extension": ".py",
      "mimetype": "text/x-python",
      "name": "python",
      "nbconvert_exporter": "python",
      "pygments_lexer": "ipython3",
      "version": "3.9.16"
    },
    "colab": {
      "provenance": [],
      "include_colab_link": true
    }
  },
  "nbformat": 4,
  "nbformat_minor": 0
}