{
  "cells": [
    {
      "cell_type": "markdown",
      "metadata": {
        "id": "view-in-github",
        "colab_type": "text"
      },
      "source": [
        "<a href=\"https://colab.research.google.com/github/mrunal028/hds5210-2023/blob/main/week13/week13_assignment_2.ipynb\" target=\"_parent\"><img src=\"https://colab.research.google.com/assets/colab-badge.svg\" alt=\"Open In Colab\"/></a>"
      ]
    },
    {
      "cell_type": "markdown",
      "metadata": {
        "nbgrader": {
          "grade": false,
          "grade_id": "cell-fc1c39d0d6f8b82a",
          "locked": true,
          "schema_version": 1,
          "solution": false
        },
        "id": "TR33ieX8OXXU"
      },
      "source": [
        "# Week 13 Programming Assignment\n",
        "\n",
        "As you're working on identifying data for your final project, it's helpful to spend some time exploring your various data files.  For this week's assignment, I'd like you to take a few of the ideas from the the lectures, review assignment, and tonight's lecture to start exploring the data you plan to use for the final project.\n",
        "\n",
        "For the following activities, you can use just one of the data files that you've identified, or you can do the activities using different data files.  That's up to you.  Please describe what you're doing in a Markdown cell or in the comments of your code.  When you've completed the assignment, submit it as normal."
      ]
    },
    {
      "cell_type": "markdown",
      "metadata": {
        "id": "bRxXeQp9OXXX"
      },
      "source": [
        "### 1. Basic Statistics\n",
        "\n",
        "Use Python to read in your data file and show many rows and columns your data has."
      ]
    },
    {
      "cell_type": "code",
      "execution_count": 28,
      "metadata": {
        "id": "iGqQEnxrOXXY"
      },
      "outputs": [],
      "source": [
        "# Reading in my data file named data01.csv from my local\n",
        "\n",
        "import pandas as pd\n",
        "\n",
        "df = pd.read_csv(\"data01.csv\")"
      ]
    },
    {
      "cell_type": "code",
      "source": [
        "# printing shape which has rows and columns\n",
        "\n",
        "df.shape"
      ],
      "metadata": {
        "colab": {
          "base_uri": "https://localhost:8080/"
        },
        "id": "9zDJXqZdq6tl",
        "outputId": "6e34390f-3c22-42e9-e119-fe1fe444c072"
      },
      "execution_count": 2,
      "outputs": [
        {
          "output_type": "execute_result",
          "data": {
            "text/plain": [
              "(1177, 51)"
            ]
          },
          "metadata": {},
          "execution_count": 2
        }
      ]
    },
    {
      "cell_type": "markdown",
      "metadata": {
        "id": "E9msv3FeOXXZ"
      },
      "source": [
        "### 2. Data Diversity\n",
        "\n",
        "Use Python to identify how many unique values each column in your data has.  Use Python to identify which column has the greatest number of distinct values (aka the most diversity)?  If your data has a unique identifier (e.g. a person or visit or record ID) then find the column with the next most number of unique values."
      ]
    },
    {
      "cell_type": "code",
      "execution_count": 10,
      "metadata": {
        "id": "tOw5YyWjOXXZ",
        "colab": {
          "base_uri": "https://localhost:8080/"
        },
        "outputId": "4f08534e-7f04-4ecb-cbc8-8cc15a6a2948"
      },
      "outputs": [
        {
          "output_type": "execute_result",
          "data": {
            "text/plain": [
              "group                          2\n",
              "ID                          1177\n",
              "outcome                        2\n",
              "age                           68\n",
              "gendera                        2\n",
              "BMI                          933\n",
              "hypertensive                   2\n",
              "atrialfibrillation             2\n",
              "CHD with no MI                 2\n",
              "diabetes                       2\n",
              "deficiencyanemias              2\n",
              "depression                     2\n",
              "Hyperlipemia                   2\n",
              "Renal failure                  2\n",
              "COPD                           2\n",
              "heart rate                  1094\n",
              "Systolic blood pressure     1102\n",
              "Diastolic blood pressure    1077\n",
              "Respiratory rate            1004\n",
              "temperature                  775\n",
              "SP O2                        866\n",
              "Urine output                 810\n",
              "hematocrit                  1056\n",
              "RBC                         1045\n",
              "MCH                          926\n",
              "MCHC                         803\n",
              "MCV                          601\n",
              "RDW                          836\n",
              "Leucocyte                    983\n",
              "Platelets                   1085\n",
              "Neutrophils                  635\n",
              "Basophils                     73\n",
              "Lymphocyte                   541\n",
              "PT                           783\n",
              "INR                          425\n",
              "NT-proBNP                   1147\n",
              "Creatine kinase              691\n",
              "Creatinine                   729\n",
              "Urea nitrogen                925\n",
              "glucose                      802\n",
              "Blood potassium              645\n",
              "Blood sodium                 600\n",
              "Blood calcium                587\n",
              "Chloride                     675\n",
              "Anion gap                    486\n",
              "Magnesium ion                447\n",
              "PH                           413\n",
              "Bicarbonate                  657\n",
              "Lactic acid                  301\n",
              "PCO2                         464\n",
              "EF                            14\n",
              "dtype: int64"
            ]
          },
          "metadata": {},
          "execution_count": 10
        }
      ],
      "source": [
        "# nunique() function returns series type data with column name and number of unique values in that respective column\n",
        "\n",
        "unique_counts_in_each_column = df.nunique()\n",
        "\n",
        "unique_counts_in_each_column"
      ]
    },
    {
      "cell_type": "code",
      "source": [
        "unique_counts_in_each_column.drop('ID', inplace=True)  # Removing the ID column as it is an unique identifier\n",
        "max_unique_column = unique_counts_in_each_column.idxmax() # Getting the max column\n",
        "max_unique_column"
      ],
      "metadata": {
        "colab": {
          "base_uri": "https://localhost:8080/",
          "height": 35
        },
        "id": "CpDDMFHnt2-G",
        "outputId": "39b27fd9-ba6e-48b1-8c6f-5d9d851cc538"
      },
      "execution_count": 11,
      "outputs": [
        {
          "output_type": "execute_result",
          "data": {
            "text/plain": [
              "'NT-proBNP'"
            ],
            "application/vnd.google.colaboratory.intrinsic+json": {
              "type": "string"
            }
          },
          "metadata": {},
          "execution_count": 11
        }
      ]
    },
    {
      "cell_type": "markdown",
      "metadata": {
        "id": "CJsk08YnOXXZ"
      },
      "source": [
        "### 3. Data Redundancy\n",
        "\n",
        "Use Python to identify any columns in your data where the value for every row is the same.  For example, if you had a gender column and all the rows said 'M', then you would want to write the code that helped you determine that."
      ]
    },
    {
      "cell_type": "code",
      "execution_count": 17,
      "metadata": {
        "id": "xCNUy2ExOXXa"
      },
      "outputs": [],
      "source": [
        "for column_name, column_count in unique_counts_in_each_column.items(): # iterating over the above series data type and check if any column has only one unique value\n",
        "  if column_count == 1:\n",
        "    print(column_name, column_count)"
      ]
    },
    {
      "cell_type": "markdown",
      "metadata": {
        "id": "1LvyazWBOXXa"
      },
      "source": [
        "### 4. Range of Values\n",
        "\n",
        "Your data almost certainly has some numeric columns that can be summed or averaged.  Create a histogram that shows the distribution of values for this column."
      ]
    },
    {
      "cell_type": "code",
      "execution_count": 20,
      "metadata": {
        "id": "UI4N-kn8OXXb",
        "colab": {
          "base_uri": "https://localhost:8080/",
          "height": 430
        },
        "outputId": "7bd34886-0e48-4805-87b3-d464ded723ee"
      },
      "outputs": [
        {
          "output_type": "display_data",
          "data": {
            "text/plain": [
              "<Figure size 640x480 with 1 Axes>"
            ],
            "image/png": "[encoded data removed]"
          },
          "metadata": {}
        }
      ],
      "source": [
        "# Plotting a histogram regarding frequency of SP O2 values per user base to showcase distribution of values for SP O2\n",
        "\n",
        "import matplotlib.pyplot as plt\n",
        "from collections import defaultdict\n",
        "\n",
        "data_for_histogram = defaultdict(int)\n",
        "\n",
        "for idx in df.index:\n",
        "  data_for_histogram[df['SP O2'][idx]] += 1\n",
        "\n",
        "plt.bar(data_for_histogram.keys(), data_for_histogram.values())\n",
        "plt.show()"
      ]
    },
    {
      "cell_type": "markdown",
      "metadata": {
        "id": "2FUvTSMwOXXb"
      },
      "source": [
        "### 5. Discussion\n",
        "\n",
        "Do any additional exploration of this data that you think may be interesting and include your code here.  Then go onto Slack and make a post about what you've observed.  Share your observation.  Share your code, if you like.  Share a screenshot of the data or a chart based on the data.\n",
        "\n",
        "Then comment on at least two other people's observations that they share on Slack.  (Use the reply as thread option in Slack to keep the conversation organized.)"
      ]
    },
    {
      "cell_type": "markdown",
      "source": [
        "Respiratory rate and heart rate are often considered dependent or directly proportional physiological parameters. An increase in heart rate commonly corresponds to an elevation in respiratory rate, and vice versa. This correlation is a result of the intricate connection between cardiovascular and respiratory systems, both regulated by the autonomic nervous system.\n",
        "\n",
        "Probably, you have alredy heard all the above said words but below is the visaul proof of the data indicating it's correctness."
      ],
      "metadata": {
        "id": "inNGxqnE6Z5I"
      }
    },
    {
      "cell_type": "code",
      "source": [
        "plt.scatter(df['Respiratory rate'], df['heart rate'])\n",
        "\n",
        "plt.xlabel('Respiratory rate')\n",
        "plt.ylabel('heart rate')\n",
        "plt.title('Scatter Plot between Respiratory and heart rate')\n",
        "\n",
        "plt.show()"
      ],
      "metadata": {
        "colab": {
          "base_uri": "https://localhost:8080/",
          "height": 472
        },
        "id": "Seq3yy4x19ZY",
        "outputId": "f0bad71b-be55-4cd1-db4a-c07ffda8e9cb"
      },
      "execution_count": 27,
      "outputs": [
        {
          "output_type": "display_data",
          "data": {
            "text/plain": [
              "<Figure size 640x480 with 1 Axes>"
            ],
            "image/png": "[encoded data removed]"
          },
          "metadata": {}
        }
      ]
    },
    {
      "cell_type": "markdown",
      "metadata": {
        "id": "hcggamt1OXXb"
      },
      "source": [
        "\n",
        "\n",
        "---\n",
        "\n",
        "\n",
        "\n",
        "## Submitting Your Work\n",
        "\n",
        "Submit your work as usual."
      ]
    },
    {
      "cell_type": "code",
      "execution_count": null,
      "metadata": {
        "id": "I0VoPresOXXb"
      },
      "outputs": [],
      "source": []
    }
  ],
  "metadata": {
    "celltoolbar": "Create Assignment",
    "kernelspec": {
      "display_name": "Python 3",
      "language": "python",
      "name": "python3"
    },
    "language_info": {
      "codemirror_mode": {
        "name": "ipython",
        "version": 3
      },
      "file_extension": ".py",
      "mimetype": "text/x-python",
      "name": "python",
      "nbconvert_exporter": "python",
      "pygments_lexer": "ipython3",
      "version": "3.6.7"
    },
    "colab": {
      "provenance": [],
      "include_colab_link": true
    }
  },
  "nbformat": 4,
  "nbformat_minor": 0
}