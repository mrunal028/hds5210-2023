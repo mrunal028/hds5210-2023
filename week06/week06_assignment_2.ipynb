{
  "cells": [
    {
      "cell_type": "markdown",
      "metadata": {
        "nbgrader": {
          "grade": false,
          "grade_id": "intro",
          "locked": true,
          "schema_version": 1,
          "solution": false
        },
        "id": "EnGd2mwmV4Hd"
      },
      "source": [
        "# Week 6 Exercises\n",
        "\n",
        "_McKinney 6.1_\n",
        "\n",
        "There are multiple ways to solve the problems below.  You can use any one of several approaches.  For example, you can read CSV files using Pandas or the csv module.  Your score won't depend on which modules you choose to use unless explicitly noted below, but your programming style will still matter."
      ]
    },
    {
      "cell_type": "markdown",
      "metadata": {
        "nbgrader": {
          "grade": false,
          "grade_id": "q1-description",
          "locked": true,
          "schema_version": 1,
          "solution": false
        },
        "id": "hKaqzUmSV4Hg"
      },
      "source": [
        "### 30.1 List of Allergies\n",
        "\n",
        "In this GitHub repository, there is a file called `allergies.json` that contains a list of patient allergies.  You will need to download this [file from here](https://raw.githubusercontent.com/paulboal/hds5210-2023/main/week06/allergies.json) and then upload it into Google Colab to run these examples. It is taken from sample data provided by the EHR vendor, Epic, here: https://open.epic.com/Clinical/Allergy\n",
        "\n",
        "Take some time to look at the structure of the file.  You can open it directly in Jupyter by clicking the _Home_ icon, then the _from_instructor_ folder, and then the _data_ folder.\n",
        "\n",
        "Within the file, you'll see that it is a dictionary with many items in it.  One of those items is called `entry` and that item is a list of things.  You can tell that because the item name is immediately followed by an opening square bracket, signifying the start of a list.  It's line 11 of the file: `  \"entry\": [`\n",
        "\n",
        "Write a function named `allergy_count(json_file)` that takes as one parameter the name of the JSON file and returns an integer number of entries in that file.  Your function should open the file, read the json into a Python object, and return how many items there are in the list of `entry`s."
      ]
    },
    {
      "cell_type": "code",
      "execution_count": 126,
      "metadata": {
        "id": "pEgy_btkV4Hh"
      },
      "outputs": [],
      "source": [
        "import json\n",
        "ALLERGIES_FILE=\"allergies.json\""
      ]
    },
    {
      "cell_type": "code",
      "execution_count": 127,
      "metadata": {
        "nbgrader": {
          "grade": false,
          "grade_id": "q1-answer",
          "locked": false,
          "schema_version": 1,
          "solution": true
        },
        "id": "GplgjqH8V4Hi"
      },
      "outputs": [],
      "source": [
        "# Put your solution here\n",
        "\"\"\"\n",
        "    Below code counts the number of allergies recorded in a JSON file.\n",
        "\n",
        "    Args:\n",
        "    ALLERGIES_FILE (str): The JSON file containing allergy data.\n",
        "\n",
        "    Returns:\n",
        "    int: The code returns the total number of different allergies recorded in the JSON data.\n",
        "    \"\"\"\n",
        "def allergy_count( ALLERGIES_FILE):\n",
        " with open (ALLERGIES_FILE) as json_file:\n",
        "    data = json.load(json_file)\n",
        " return len(data['entry'])\n",
        "\n"
      ]
    },
    {
      "cell_type": "code",
      "execution_count": 128,
      "metadata": {
        "id": "ynpZlk4NV4Hi",
        "outputId": "2a5f121a-96ef-4800-8078-f7f7d12e73a9",
        "colab": {
          "base_uri": "https://localhost:8080/"
        }
      },
      "outputs": [
        {
          "output_type": "execute_result",
          "data": {
            "text/plain": [
              "4"
            ]
          },
          "metadata": {},
          "execution_count": 128
        }
      ],
      "source": [
        "allergy_count(ALLERGIES_FILE)"
      ]
    },
    {
      "cell_type": "code",
      "execution_count": 129,
      "metadata": {
        "nbgrader": {
          "grade": true,
          "grade_id": "q1-tests",
          "locked": true,
          "points": 5,
          "schema_version": 1,
          "solution": false
        },
        "id": "WKS6L7AXV4Hi"
      },
      "outputs": [],
      "source": [
        "assert type(allergy_count(ALLERGIES_FILE)) == int\n",
        "assert allergy_count(ALLERGIES_FILE) == 4"
      ]
    },
    {
      "cell_type": "markdown",
      "metadata": {
        "id": "5JFves-QV4Hj"
      },
      "source": [
        "### 30.2 Number of Patients\n",
        "\n",
        "If you dig a little bit deaper into this list of allergies, you'll see that each result has a patient associated with it.  Create a funcation called `patient_count(json_file)` that will count how many unique patients we have in this JSON structure.  "
      ]
    },
    {
      "cell_type": "code",
      "execution_count": 130,
      "metadata": {
        "id": "AGTGbpOCV4Hj"
      },
      "outputs": [],
      "source": [
        "# Put your solution here\n",
        "\"\"\"\n",
        "    This code reads a JSON file having allergy data and explains the total number of unique patients\n",
        "    with recorded allergies.\n",
        "\n",
        "    Args:\n",
        "    ALLERGIES_FILE (str): The JSON file containing allergy data.\n",
        "\n",
        "    Returns:\n",
        "    int: The code returns the total count of unique patients with recorded allergies in the JSON data.\n",
        "    \"\"\"\n",
        "def patient_count(ALLERGIES_FILE):\n",
        "\n",
        "  with open(ALLERGIES_FILE) as json_file:\n",
        "    data = json.load(json_file)\n",
        "\n",
        "  all_patients = []\n",
        "\n",
        "  entry_array = data['entry']\n",
        "\n",
        "  for entry in entry_array:\n",
        "    all_patients.append(entry['resource']['patient']['display'])\n",
        "\n",
        "  return len(set(all_patients))\n"
      ]
    },
    {
      "cell_type": "code",
      "execution_count": 131,
      "metadata": {
        "id": "ciexo8ibV4Hj",
        "outputId": "5af024f1-a4e4-4e9a-b0fd-466918e975a5",
        "colab": {
          "base_uri": "https://localhost:8080/"
        }
      },
      "outputs": [
        {
          "output_type": "execute_result",
          "data": {
            "text/plain": [
              "2"
            ]
          },
          "metadata": {},
          "execution_count": 131
        }
      ],
      "source": [
        "(patient_count(ALLERGIES_FILE))"
      ]
    },
    {
      "cell_type": "code",
      "execution_count": 132,
      "metadata": {
        "id": "pAfLDKdEV4Hk"
      },
      "outputs": [],
      "source": [
        "assert type(patient_count(ALLERGIES_FILE)) == int\n",
        "assert patient_count(ALLERGIES_FILE) == 2"
      ]
    },
    {
      "cell_type": "markdown",
      "metadata": {
        "id": "qcRo15HkV4Hk"
      },
      "source": [
        "### 30.3 How Many Allergies per Patient\n",
        "\n",
        "Although each entry is a separate allergy, several of them are for the same patient.  Write a function called `allergy_per_patient(json_file)` that counts up how many allergies each patient has.\n"
      ]
    },
    {
      "cell_type": "code",
      "execution_count": 133,
      "metadata": {
        "id": "McHk2IExV4Hk"
      },
      "outputs": [],
      "source": [
        "# Put your solution here\n",
        "\"\"\"\n",
        "    This code calculates the number of allergies for each patient. It returns a dictionary where keys are\n",
        "    patient names and values are the respective counts of allergies recorded for\n",
        "    each patient.\n",
        "\n",
        "    Args:\n",
        "    ALLERGIES_FILE (str): The JSON file containing allergy data.\n",
        "\n",
        "    Returns:\n",
        "    dict: A dictionary, keys are patient names and values are the counts\n",
        "          of allergies recorded for each patient.\n",
        "    \"\"\"\n",
        "def allergy_per_patient(ALLERGIES_FILE):\n",
        "  with open(ALLERGIES_FILE) as json_file:\n",
        "    data = json.load(json_file)\n",
        "\n",
        "  all_patients = []\n",
        "\n",
        "  entry_array = data['entry']\n",
        "\n",
        "  for entry in entry_array:\n",
        "    all_patients.append(entry['resource']['patient']['display'])\n",
        "\n",
        "  allergy_per_patient_dict = dict()\n",
        "\n",
        "  for patient in all_patients:\n",
        "    if patient not in allergy_per_patient_dict:\n",
        "      allergy_per_patient_dict[patient] = 1\n",
        "    else:\n",
        "      allergy_per_patient_dict[patient] += 1\n",
        "\n",
        "  return allergy_per_patient_dict"
      ]
    },
    {
      "cell_type": "code",
      "execution_count": 134,
      "metadata": {
        "id": "UhhNsXc_V4Hk",
        "outputId": "2ada75b3-b3fe-47e5-e47e-2de043805719",
        "colab": {
          "base_uri": "https://localhost:8080/"
        }
      },
      "outputs": [
        {
          "output_type": "execute_result",
          "data": {
            "text/plain": [
              "{'Jason Argonaut': 3, 'Paul Boal': 1}"
            ]
          },
          "metadata": {},
          "execution_count": 134
        }
      ],
      "source": [
        "(allergy_per_patient(ALLERGIES_FILE))"
      ]
    },
    {
      "cell_type": "code",
      "execution_count": 135,
      "metadata": {
        "id": "2hv8kAwkV4Hk"
      },
      "outputs": [],
      "source": [
        "assert type(allergy_per_patient(ALLERGIES_FILE)) == dict\n",
        "assert allergy_per_patient(ALLERGIES_FILE) == {'Paul Boal': 1, 'Jason Argonaut': 3}"
      ]
    },
    {
      "cell_type": "markdown",
      "metadata": {
        "nbgrader": {
          "grade": false,
          "grade_id": "q2-question",
          "locked": true,
          "schema_version": 1,
          "solution": false
        },
        "id": "IoLUpw_mV4Hl"
      },
      "source": [
        "### 30.4 Patient Allergies and Reaction\n",
        "\n",
        "You'll see in the file that each of the items in the `entry` list have several other attributes including a patient name, substance text representation, and a reaction manifestation.  Create a function named `allergy_list(json_file)` that will create an output list that has patient name, allergy, and reaction for each `entry`.  The actual result you should get will be:\n",
        "\n",
        "```python\n",
        "[['Jason Argonaut', 'PENICILLIN G', 'Hives'],\n",
        " ['Paul Boal', 'PENICILLIN G', 'Bruising'],\n",
        " ['Jason Argonaut', 'SHELLFISH-DERIVED PRODUCTS', 'Itching'],\n",
        " ['Jason Argonaut', 'STRAWBERRY', 'Anaphylaxis']]\n",
        "```\n",
        "\n",
        "You'll notice that the reaction and the manifestation of that action are lists.  You only need to capture the first reaction and the first manifestation of the action.  That is, if there is a list of things, just output the first one."
      ]
    },
    {
      "cell_type": "code",
      "execution_count": 136,
      "metadata": {
        "nbgrader": {
          "grade": false,
          "grade_id": "q2-answer",
          "locked": false,
          "schema_version": 1,
          "solution": true
        },
        "id": "gWOqPkifV4Hl"
      },
      "outputs": [],
      "source": [
        "# Put your solution here\n",
        "import json\n",
        "\n",
        "### BEGIN SOLUTION\n",
        "\"\"\"\n",
        "    Deriving a list of allergies for each patient from the given JSON file.\n",
        "\n",
        "    The code reads a JSON file containing allergy data and extracts a list of\n",
        "    allergies for each patient. Each patient's allergies, including patient name,\n",
        "    allergy substance, and manifestation, are stored in a sub-list. All patient\n",
        "    sub-lists are then collected into a main list, forming a comprehensive list of\n",
        "    allergies for all patients.\n",
        "\n",
        "    Args:\n",
        "    ALLERGIES_FILE (str): The JSON file containing allergy data.\n",
        "\n",
        "    Returns:\n",
        "    list: Each inner list contains patient name, allergy substance, and manifestation, representing the allergies recorded for each patient.\n",
        "    \"\"\"\n",
        "def allergy_list(ALLERGIED_FILE):\n",
        " with open (ALLERGIES_FILE)as json_file:\n",
        "    data = json.load(json_file)\n",
        "\n",
        "    all_patients_data = []\n",
        "    entry_array = data['entry']\n",
        " for entry in entry_array:\n",
        "    patient_data = []\n",
        "    entry_resourse = entry['resource']\n",
        "    patient_data.append(entry_resourse['patient']['display'])\n",
        "    patient_data.append(entry_resourse['substance']['text'])\n",
        "    patient_data.append(entry_resourse['reaction'][0]['manifestation'][0]['text'])\n",
        "    all_patients_data.append(patient_data)\n",
        " return all_patients_data"
      ]
    },
    {
      "cell_type": "code",
      "execution_count": 137,
      "metadata": {
        "id": "hOjOsAYqV4Hl",
        "outputId": "994afa68-c52d-4010-de52-7910a2f31d84",
        "colab": {
          "base_uri": "https://localhost:8080/"
        }
      },
      "outputs": [
        {
          "output_type": "execute_result",
          "data": {
            "text/plain": [
              "[['Jason Argonaut', 'PENICILLIN G', 'Hives'],\n",
              " ['Jason Argonaut', 'SHELLFISH-DERIVED PRODUCTS', 'Itching'],\n",
              " ['Jason Argonaut', 'STRAWBERRY', 'Anaphylaxis'],\n",
              " ['Paul Boal', 'PENICILLIN G', 'Bruising']]"
            ]
          },
          "metadata": {},
          "execution_count": 137
        }
      ],
      "source": [
        "allergy_list(ALLERGIES_FILE)"
      ]
    },
    {
      "cell_type": "code",
      "execution_count": 138,
      "metadata": {
        "nbgrader": {
          "grade": true,
          "grade_id": "q2-tests",
          "locked": true,
          "points": 10,
          "schema_version": 1,
          "solution": false
        },
        "id": "ISgj0xjEV4Hl"
      },
      "outputs": [],
      "source": [
        "assert allergy_list(ALLERGIES_FILE) == [['Jason Argonaut', 'PENICILLIN G', 'Hives'],\n",
        " ['Jason Argonaut', 'SHELLFISH-DERIVED PRODUCTS', 'Itching'],\n",
        " ['Jason Argonaut', 'STRAWBERRY', 'Anaphylaxis'],\n",
        " ['Paul Boal', 'PENICILLIN G', 'Bruising']]\n"
      ]
    },
    {
      "cell_type": "markdown",
      "metadata": {
        "nbgrader": {
          "grade": false,
          "grade_id": "q3-question",
          "locked": true,
          "schema_version": 1,
          "solution": false
        },
        "id": "drea36XDV4Hl"
      },
      "source": [
        "### 30.5 Allergy Reaction\n",
        "\n",
        "Write a function called `allergy_reaction(json_file,patient,substance)` that takes three parameter and returns the reaction that will happen if the patient takes the specified substance.  You can solve this, in part, by calling your `allergy_list` function inside your new `allergy_reaction` function.\n",
        "\n",
        "If the substance is not found in the allergy list, the function should return None."
      ]
    },
    {
      "cell_type": "code",
      "execution_count": 139,
      "metadata": {
        "nbgrader": {
          "grade": false,
          "grade_id": "q3-answer",
          "locked": false,
          "schema_version": 1,
          "solution": true
        },
        "id": "aIL4-YgPV4Hl"
      },
      "outputs": [],
      "source": [
        "# Put your solution here\n",
        "\"\"\"\n",
        "\n",
        "    This function take a JSON file containing allergy data, along with a patient name\n",
        "    and a specific substance. It searches the allergy data for the given patient and substance\n",
        "    combination and returns the corresponding allergic reaction lists. If no match is found, it returns None.\n",
        "\n",
        "    Args:\n",
        "    ALLERGIES_FILE (str): The file path to the JSON file containing allergy data.\n",
        "    patient (str): The name of the patient for whom the allergic reaction needs to be retrieved.\n",
        "    substance (str): The specific substance for which the allergic reaction needs to be retrieved.\n",
        "\n",
        "    Returns:\n",
        "    str or None: The allergic reaction corresponding to the given patient and substance, or None\n",
        "                 if no match is found in the allergy data.\n",
        "    \"\"\"\n",
        "def allergy_reaction(ALLERGIES_FILE, patient, substance):\n",
        "\n",
        "  all_allergy_list = allergy_list(ALLERGIES_FILE)\n",
        "\n",
        "  for allergy in all_allergy_list:\n",
        "    if allergy[0] == patient and allergy[1] == substance:\n",
        "      return allergy[2]\n",
        "  return None"
      ]
    },
    {
      "cell_type": "code",
      "execution_count": 140,
      "metadata": {
        "id": "YiCY54tpV4Hl"
      },
      "outputs": [],
      "source": [
        "assert allergy_reaction(ALLERGIES_FILE, 'Jason Argonaut', 'PENICILLIN G') == 'Hives'"
      ]
    },
    {
      "cell_type": "code",
      "execution_count": 141,
      "metadata": {
        "nbgrader": {
          "grade": true,
          "grade_id": "q3-tests",
          "locked": true,
          "points": 5,
          "schema_version": 1,
          "solution": false
        },
        "id": "9rxymBXbV4Hl"
      },
      "outputs": [],
      "source": [
        "assert allergy_reaction(ALLERGIES_FILE, 'Jason Argonaut', 'PENICILLIN G') == 'Hives'\n",
        "assert allergy_reaction(ALLERGIES_FILE, 'Jason Argonaut', 'SHELLFISH-DERIVED PRODUCTS') == 'Itching'\n",
        "assert allergy_reaction(ALLERGIES_FILE, 'Jason Argonaut', 'STRAWBERRY') == 'Anaphylaxis'\n",
        "assert allergy_reaction(ALLERGIES_FILE, 'Jason Argonaut', 'PENICILLIN') == None\n",
        "assert allergy_reaction(ALLERGIES_FILE, 'Paul Boal', 'PENICILLIN G') == 'Bruising'"
      ]
    },
    {
      "cell_type": "markdown",
      "metadata": {
        "id": "saSJKtVlV4Hl"
      },
      "source": [
        "---\n",
        "\n",
        "## Check your work above\n",
        "\n",
        "If you didn't get them all correct, take a few minutes to think through those that aren't correct.\n",
        "\n",
        "\n",
        "## Submitting Your Work\n",
        "\n",
        "In order to submit your work, you'll need to save this notebook file back to GitHub.  To do that in Google Colab:\n",
        "1. File -> Save a Copy in GitHub\n",
        "2. Make sure your HDS5210 repository is selected\n",
        "3. Make sure the file name includes the week number like this: `week06/week06_assignment_2.ipynb`\n",
        "4. Add a commit message that means something\n",
        "\n",
        "**Be sure week names are lowercase and use a two digit week number!!**\n",
        "\n",
        "**Be sure you use the same file name provided by the instructor!!**\n",
        "\n"
      ]
    },
    {
      "cell_type": "code",
      "source": [],
      "metadata": {
        "id": "dMklDKugxKC-"
      },
      "execution_count": null,
      "outputs": []
    }
  ],
  "metadata": {
    "celltoolbar": "Create Assignment",
    "kernelspec": {
      "display_name": "Python 3",
      "language": "python",
      "name": "python3"
    },
    "language_info": {
      "codemirror_mode": {
        "name": "ipython",
        "version": 3
      },
      "file_extension": ".py",
      "mimetype": "text/x-python",
      "name": "python",
      "nbconvert_exporter": "python",
      "pygments_lexer": "ipython3",
      "version": "3.9.16"
    },
    "colab": {
      "provenance": []
    }
  },
  "nbformat": 4,
  "nbformat_minor": 0
}