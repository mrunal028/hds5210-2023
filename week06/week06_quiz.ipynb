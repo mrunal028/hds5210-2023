{
  "cells": [
    {
      "cell_type": "markdown",
      "metadata": {
        "id": "K_K4oV185z_x"
      },
      "source": [
        "# In Class Quiz!\n",
        "\n",
        "This week, we are doing an in-class quiz to see how each of you is doing on your own.\n",
        "\n",
        "You must complete this work **entirely on your own** in the next 15 minutes.\n",
        "\n",
        "You may **not ask for help** from anyone **including Google or ChatGPT**.\n",
        "\n",
        "You **are allowed** to use class slides, the online textbook, previous assignments, and any other notes you have.\n",
        "\n",
        "This quiz will be worth **20 points**.\n"
      ]
    },
    {
      "cell_type": "markdown",
      "metadata": {
        "id": "jGpsXhPd5z_y"
      },
      "source": [
        "## Q6.1 - Mean Arterial Pressure (MAP)\n",
        "\n",
        "Mean Arterial Pressure can indicate if a patient is receiving sufficient blood to keep tissue alive.  You can see how to calculate MAP on the [Evidence tab of this page](https://www.mdcalc.com/calc/74/mean-arterial-pressure-map).  I've included the important details here for easy reference.\n",
        "\n",
        "* `map = (1/3 * systolic_bp) + (2/3 * diastolic_bp)`\n",
        "* If a patient has severe sepsis, we want their MAP to be ≥65 mmHg\n",
        "* If a patient does not have severe sepsis, we want their MAP to to be ≥60 mmHg\n",
        "* If the systolic_bp or diastolic_bp reported are ≤ 0, you should return `None`\n",
        "\n",
        "You need to create a function called `map_test()` that takes three parameters: `systolic_bp`, `diastolic_bp`, and `severe_sepsis`.\n",
        "* `systolic_bp` will be an integer\n",
        "* `diastolic_bp` will be an integer\n",
        "* `severe_sepsis` will be a boolean, indicating if the patient has severe sepsis (`True`) or not (`False`)\n",
        "\n",
        "Your function should return either a `True` or `False` depending on if the patient's Mean Arterial Pressure is sufficient to maintain a healthy condition.  That is:\n",
        "* If the patient has severe sepsis, then a MAP ≥ 65 should return True; otherwise False\n",
        "* If the patient does not have severe sepsis, then a MAP ≥ 60 should return True; otherwise False\n",
        "\n",
        "I have provided several test scenarios to help you verify your work.\n",
        "\n",
        "For full credit, your code must satisfy all of the following requirements:\n",
        "1. Pass all of the assert tests provided below\n",
        "2. Have a docstring with parameter types, function description, and at least 5 test cases that cover a range of inputs and outputs\n",
        "3. Successfully run all 5 tests when the *run_docstring_examples* cell is called\n",
        "4. Implement the rules above completely, even if a test scenario is not represented in the asserts or docstrings\n",
        "\n"
      ]
    },
    {
      "cell_type": "code",
      "execution_count": 11,
      "metadata": {
        "id": "dvI3fGcO5z_z"
      },
      "outputs": [],
      "source": [
        "# Put your code here\n",
        "def map_test(systolic_bp, diastolic_bp, severe_sepsis):\n",
        "    # Check if systolic_bp or diastolic_bp is less than or equal to 0, return None\n",
        "    if systolic_bp <= 0 or diastolic_bp <= 0:\n",
        "        return None\n",
        "\n",
        "    # Calculate MAP\n",
        "    map_value = (1/3 * systolic_bp) + (2/3 * diastolic_bp)\n",
        "\n",
        "    # Check if the patient has severe sepsis\n",
        "    if severe_sepsis:\n",
        "        return map_value >= 65\n",
        "    else:\n",
        "       return map_value >= 60\n",
        "\n",
        "\n"
      ]
    },
    {
      "cell_type": "code",
      "execution_count": 12,
      "metadata": {
        "id": "63Ojub1l5z_z"
      },
      "outputs": [],
      "source": [
        "# map_test(systolic_bp, diastolic_bp, severe_sepsis) == True if the patient is getting enough oxygen to their body\n",
        "# map_test(systolic_bp, diastolic_bp, severe_sepsis) == False if the patient is not getting enough oxygen\n",
        "\n",
        "assert map_test(110, 70, False) == True\n",
        "assert map_test(90,  50, False) == True\n",
        "assert map_test(110, 70, True)  == True\n",
        "assert map_test(90,  50, True)  == False\n",
        "assert map_test(0,   70, False) == None\n",
        "assert map_test(110, 0,  False) == None\n",
        "assert map_test(0,   70, True)  == None\n",
        "assert map_test(110, 0,  True)  == None\n",
        "assert map_test(0,   0,  False) == None\n",
        "assert map_test(0,   0,  True)  == None"
      ]
    },
    {
      "cell_type": "code",
      "execution_count": 13,
      "metadata": {
        "colab": {
          "base_uri": "https://localhost:8080/"
        },
        "id": "_0-m7r515z_0",
        "outputId": "3fd6ff3b-fbf7-4ee1-c254-f1d07c31e036"
      },
      "outputs": [
        {
          "output_type": "stream",
          "name": "stdout",
          "text": [
            "Finding tests in NoName\n"
          ]
        }
      ],
      "source": [
        "import doctest\n",
        "doctest.run_docstring_examples(map_test, globals(), verbose=True)"
      ]
    },
    {
      "cell_type": "markdown",
      "metadata": {
        "id": "eSh9k4rd5z_0"
      },
      "source": [
        "## Q6.2\n",
        "\n",
        "Replace the `?` in each of the lines of code below with one of the following responses: `dict`, `list`, `str`, `int`, or `ERROR` if you think the code is invalid.\n",
        "\n",
        "Based on the following value of the variable `data`:\n",
        "\n",
        "```python\n",
        "data = [\n",
        "    {\n",
        "        \"last_name\": \"Boal\",\n",
        "        \"first_names\": [\"Paul\", \"Anny\"]\n",
        "    },\n",
        "    {\n",
        "        \"last_name\": \"Einstein\",\n",
        "        \"first_names\": [\"Albert\"]\n",
        "    }\n",
        "]\n",
        "```\n",
        "\n",
        "The first one is done for you to show as an example."
      ]
    },
    {
      "cell_type": "code",
      "source": [
        "data = [\n",
        "    {\n",
        "        \"last_name\": \"Boal\",\n",
        "        \"first_names\": [\"Paul\", \"Anny\"]\n",
        "    },\n",
        "    {\n",
        "        \"last_name\": \"Einstein\",\n",
        "        \"first_names\": [\"Albert\"]\n",
        "    }\n",
        "]\n",
        "\n",
        "type(data) == list"
      ],
      "metadata": {
        "id": "9BgYwWfq_Kgf",
        "outputId": "e45396c9-c248-4e99-9d04-3f870d44cd5f",
        "colab": {
          "base_uri": "https://localhost:8080/"
        }
      },
      "execution_count": 14,
      "outputs": [
        {
          "output_type": "execute_result",
          "data": {
            "text/plain": [
              "True"
            ]
          },
          "metadata": {},
          "execution_count": 14
        }
      ]
    },
    {
      "cell_type": "code",
      "execution_count": 15,
      "metadata": {
        "id": "U44kJCfn5z_0",
        "outputId": "eee0cca7-f6d0-4ec5-d0b0-7037c00c6959",
        "colab": {
          "base_uri": "https://localhost:8080/",
          "height": 35
        }
      },
      "outputs": [
        {
          "output_type": "execute_result",
          "data": {
            "text/plain": [
              "'type(data) == list'"
            ],
            "application/vnd.google.colaboratory.intrinsic+json": {
              "type": "string"
            }
          },
          "metadata": {},
          "execution_count": 15
        }
      ],
      "source": [
        "'type(data) == list'"
      ]
    },
    {
      "cell_type": "code",
      "execution_count": 16,
      "metadata": {
        "id": "0GHNYlj95z_0",
        "outputId": "e0cf90ce-49f4-463c-9a02-74e7348c374d",
        "colab": {
          "base_uri": "https://localhost:8080/",
          "height": 35
        }
      },
      "outputs": [
        {
          "output_type": "execute_result",
          "data": {
            "text/plain": [
              "'type(data[0]) == dict'"
            ],
            "application/vnd.google.colaboratory.intrinsic+json": {
              "type": "string"
            }
          },
          "metadata": {},
          "execution_count": 16
        }
      ],
      "source": [
        "'type(data[0]) == dict'"
      ]
    },
    {
      "cell_type": "code",
      "execution_count": 17,
      "metadata": {
        "id": "SbgDCSYf5z_0",
        "outputId": "189b9653-84a7-46c7-893d-71afee6101ec",
        "colab": {
          "base_uri": "https://localhost:8080/",
          "height": 35
        }
      },
      "outputs": [
        {
          "output_type": "execute_result",
          "data": {
            "text/plain": [
              "'type(data[1]) == dict'"
            ],
            "application/vnd.google.colaboratory.intrinsic+json": {
              "type": "string"
            }
          },
          "metadata": {},
          "execution_count": 17
        }
      ],
      "source": [
        "'type(data[1]) == dict'"
      ]
    },
    {
      "cell_type": "code",
      "execution_count": 18,
      "metadata": {
        "id": "J4Jfgfh65z_0",
        "outputId": "19e6dd3e-7455-4ae3-c968-12c82e582c4d",
        "colab": {
          "base_uri": "https://localhost:8080/",
          "height": 35
        }
      },
      "outputs": [
        {
          "output_type": "execute_result",
          "data": {
            "text/plain": [
              "'type(data[0][\"first_names\"]) == list'"
            ],
            "application/vnd.google.colaboratory.intrinsic+json": {
              "type": "string"
            }
          },
          "metadata": {},
          "execution_count": 18
        }
      ],
      "source": [
        "'type(data[0][\"first_names\"]) == list'"
      ]
    },
    {
      "cell_type": "code",
      "execution_count": 19,
      "metadata": {
        "id": "ofBwzGAl5z_0",
        "outputId": "3560c72e-1145-438e-9d12-1ed57eefc3c9",
        "colab": {
          "base_uri": "https://localhost:8080/",
          "height": 35
        }
      },
      "outputs": [
        {
          "output_type": "execute_result",
          "data": {
            "text/plain": [
              "'type(data[0][\"first_names\"][0]) == str'"
            ],
            "application/vnd.google.colaboratory.intrinsic+json": {
              "type": "string"
            }
          },
          "metadata": {},
          "execution_count": 19
        }
      ],
      "source": [
        "'type(data[0][\"first_names\"][0]) == str'"
      ]
    },
    {
      "cell_type": "code",
      "execution_count": 20,
      "metadata": {
        "id": "BQxw09TO5z_0",
        "outputId": "ec53bba7-a634-47dd-e634-82f267ae01f2",
        "colab": {
          "base_uri": "https://localhost:8080/",
          "height": 35
        }
      },
      "outputs": [
        {
          "output_type": "execute_result",
          "data": {
            "text/plain": [
              "'type(data[-1][\"last_name\"]) == str'"
            ],
            "application/vnd.google.colaboratory.intrinsic+json": {
              "type": "string"
            }
          },
          "metadata": {},
          "execution_count": 20
        }
      ],
      "source": [
        "'type(data[-1][\"last_name\"]) == str'\n",
        ""
      ]
    },
    {
      "cell_type": "code",
      "execution_count": 20,
      "metadata": {
        "id": "dwnyU5iZ5z_0"
      },
      "outputs": [],
      "source": []
    }
  ],
  "metadata": {
    "kernelspec": {
      "display_name": ".venv",
      "language": "python",
      "name": "python3"
    },
    "language_info": {
      "codemirror_mode": {
        "name": "ipython",
        "version": 3
      },
      "file_extension": ".py",
      "mimetype": "text/x-python",
      "name": "python",
      "nbconvert_exporter": "python",
      "pygments_lexer": "ipython3",
      "version": "3.9.16"
    },
    "orig_nbformat": 4,
    "colab": {
      "provenance": []
    }
  },
  "nbformat": 4,
  "nbformat_minor": 0
}