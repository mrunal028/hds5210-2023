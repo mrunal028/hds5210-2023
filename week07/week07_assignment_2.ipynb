{
  "cells": [
    {
      "cell_type": "markdown",
      "metadata": {
        "id": "JqMR7cKxbY-k"
      },
      "source": [
        "# Week 7 Assignment\n",
        "\n",
        "We've been working with different types of data structures in Python (dictionary, list, etc), how those are represented in JSON documents, and how to write code to access specific data elements. In this week's assignment, you will need to create your own JSON document to store information about yourself and the grades you've received from week 1 to week 4 and the week 6 quiz.  That is, everything you should have received a grade for.  Then you'll need to show me you know how to navigate the JSON in that file.\n",
        "\n",
        "Different from what we've done in the past, you do not have to write any functions or include any docstrings.  Just create some JSON and write some code.\n",
        "\n",
        "---"
      ]
    },
    {
      "cell_type": "markdown",
      "metadata": {
        "id": "SXifXERqbY-n"
      },
      "source": [
        "## 7.1 Create a JSON string\n",
        "\n",
        "Create a JSON string that contains your name, email, year you were born, all of the grades you've received back so far, and a comment about what you thought was most challenging on each of those assignments.  This can be any structure you choose, but make sure it uses a dictionary and a list, and has at least two levels of hierarchy.  That is, it can't just be one big long list."
      ]
    },
    {
      "cell_type": "markdown",
      "metadata": {
        "id": "oIV4IILsbY-o"
      },
      "source": [
        "First, explain how your data structure is going to look..."
      ]
    },
    {
      "cell_type": "markdown",
      "metadata": {
        "id": "ybY3MmPpbY-o"
      },
      "source": [
        "* I Created JSON string using my personal information such as my name, dob,email address and scores I have secured in the assignments. For this code I have used strings, dictionary and lists.\n",
        "\n"
      ]
    },
    {
      "cell_type": "markdown",
      "metadata": {
        "id": "hTk89020bY-o"
      },
      "source": [
        "Then put the actual JSON you've created inside the multiline string below..."
      ]
    },
    {
      "cell_type": "code",
      "execution_count": 3,
      "metadata": {
        "id": "PlDzetRsbY-o"
      },
      "outputs": [],
      "source": [
        "hds5210 = \"\"\"\n",
        "{\n",
        "    \"MyInfo\": {\n",
        "        \"Name\": \"Mrunal Reddy Ragi\",\n",
        "        \"Email\": \"mrunalreddy2528@gmail.com\",\n",
        "        \"DateofBirth\": 1997\n",
        "    },\n",
        "    \"Assignments\": {\n",
        "        \"week1\": {\n",
        "            \"grade\": 10,\n",
        "            \"challenges\": \"adding collaborator to repository\"\n",
        "        },\n",
        "        \"week2\": {\n",
        "            \"grade\": 9.5,\n",
        "            \"challenges\": \"working on my own code\"\n",
        "        },\n",
        "        \"week3\": {\n",
        "            \"grade\": 10,\n",
        "            \"challenges\": \"writing long codes\"\n",
        "        },\n",
        "        \"week4\": {\n",
        "            \"grade\": 10,\n",
        "            \"challenges\": \"avoiding assertion errors\"\n",
        "        },\n",
        "        \"week6InClassQuiz\": {\n",
        "            \"grade\": 5,\n",
        "            \"challenges\": \"Time management and focus\"\n",
        "        }\n",
        "    }\n",
        "}\n",
        "\n",
        "\"\"\""
      ]
    },
    {
      "cell_type": "markdown",
      "metadata": {
        "id": "vrpO-SgwbY-q"
      },
      "source": [
        "## 7.2 Do something with your JSON\n",
        "\n",
        "Now use Python code to do something with the Json above.  Turn it into English text, but make sure that you use at least one loop to access some dict or list content of your JSON.  Below, I've provided some basic code to read in the string above as JSON and return a Python object.  Your job is to work with that data structure and print out the important information like your name, email, and how you did on each assignment."
      ]
    },
    {
      "cell_type": "code",
      "execution_count": 5,
      "metadata": {
        "id": "urEtJlK5bY-q",
        "outputId": "980579e3-d410-411c-c46b-e6321d6edc19",
        "colab": {
          "base_uri": "https://localhost:8080/"
        }
      },
      "outputs": [
        {
          "output_type": "stream",
          "name": "stdout",
          "text": [
            "For week1, the grade was 10 where adding collaborator to repository was challenging.\n",
            "For week2, the grade was 9.5 where working on my own code was challenging.\n",
            "For week3, the grade was 10 where writing long codes was challenging.\n",
            "For week4, the grade was 10 where avoiding assertion errors was challenging.\n",
            "For week6InClassQuiz, the grade was 5 where Time management and focus was challenging.\n",
            "My name is Mrunal Reddy Ragi. My date of birth is 1997. My email address is mrunalreddy2528@gmail.com.\n"
          ]
        }
      ],
      "source": [
        "import json\n",
        "info = json.loads(hds5210)\n",
        "\n",
        "# Accessing MyInfo\n",
        "name = info[\"MyInfo\"][\"Name\"]\n",
        "email = info[\"MyInfo\"][\"Email\"]\n",
        "dob = info[\"MyInfo\"][\"DateofBirth\"]\n",
        "\n",
        "# Accessing Assignments and printing scores and tasks\n",
        "assignments = info[\"Assignments\"]\n",
        "for week, details in assignments.items():\n",
        "    grade = details[\"grade\"]\n",
        "    challenges = details[\"challenges\"]\n",
        "\n",
        "\n",
        "    print(f\"For {week}, the grade was {grade} where {challenges} was challenging.\")\n",
        "print(f\"My name is {name}. My date of birth is {dob}. My email address is {email}.\")\n"
      ]
    },
    {
      "cell_type": "markdown",
      "metadata": {
        "id": "_sPlmuRNbY-q"
      },
      "source": [
        "## 7.3 Reflect\n",
        "\n",
        "Write a paragraph on any reflections you have. Was this hard? Easy?  What parts were most challenging or easiest? What did you like or dislike about the assignment?  Share whatever important thoughts you have abou this assignment."
      ]
    },
    {
      "cell_type": "markdown",
      "metadata": {
        "id": "vQhlPba6bY-r"
      },
      "source": [
        "`This assignment was different from previous assignments, the example provided below was helpful. I completely took the reference from the example and some other external resources inorder to write the code little different in my own style. writing strings, converting into paragraphs was new challenging part in this assignment, since I have faced multiple indentation errors which consumed my time, however it was a learning, as I could overcome it by end of the assignment. Overall this assisgnment was fun and logical activity.\n"
      ]
    },
    {
      "cell_type": "markdown",
      "metadata": {
        "id": "aipMj_1hbY-r"
      },
      "source": [
        "---\n",
        "\n",
        "# Example\n",
        "\n",
        "Below is an example of something similar, but this uses information my and my friend's kids instead of grades."
      ]
    },
    {
      "cell_type": "code",
      "execution_count": 6,
      "metadata": {
        "id": "R-wkiJjQbY-r",
        "outputId": "62eb492c-bf23-4ecc-faa8-c169e9f893fa",
        "colab": {
          "base_uri": "https://localhost:8080/"
        }
      },
      "outputs": [
        {
          "output_type": "stream",
          "name": "stdout",
          "text": [
            "Hi, my name is Paul. I've got 3 kids. Their names are Ellie, Ada, Teddy.\n",
            "My friend, Anny has 1 kids. That's fewer than me. Their names are 1\n"
          ]
        }
      ],
      "source": [
        "hds5210 = \"\"\"\n",
        "{\n",
        "    \"me\": {\n",
        "        \"name\": \"Paul\",\n",
        "        \"kids\": [\"Ellie\", \"Ada\", \"Teddy\"]\n",
        "    },\n",
        "    \"friend\": {\n",
        "        \"name\": \"Anny\",\n",
        "        \"kids\": [\"Abby\"]\n",
        "    }\n",
        "}\n",
        "\"\"\"\n",
        "\n",
        "import json\n",
        "\n",
        "info = json.loads(hds5210)\n",
        "\n",
        "me = info[\"me\"][\"name\"]\n",
        "my_kids_count = len(info[\"me\"][\"kids\"])\n",
        "kids_list = \", \".join(info[\"me\"][\"kids\"])\n",
        "friend = info[\"friend\"][\"name\"]\n",
        "friends_kid_count = len(info[\"friend\"][\"kids\"])\n",
        "friend_kids = \", \".join(info[\"friend\"][\"kids\"])\n",
        "compare = \"more\" if friends_kid_count > my_kids_count else \"fewer\"\n",
        "\n",
        "print(f\"Hi, my name is {me}. I've got {my_kids_count} kids. Their names are {kids_list}.\")\n",
        "print(f\"My friend, {friend} has {friends_kid_count} kids. That's {compare} than me. Their names are {friends_kid_count}\")"
      ]
    }
  ],
  "metadata": {
    "kernelspec": {
      "display_name": "Python 3",
      "language": "python",
      "name": "python3"
    },
    "language_info": {
      "codemirror_mode": {
        "name": "ipython",
        "version": 3
      },
      "file_extension": ".py",
      "mimetype": "text/x-python",
      "name": "python",
      "nbconvert_exporter": "python",
      "pygments_lexer": "ipython3",
      "version": "3.9.16"
    },
    "colab": {
      "provenance": []
    }
  },
  "nbformat": 4,
  "nbformat_minor": 0
}